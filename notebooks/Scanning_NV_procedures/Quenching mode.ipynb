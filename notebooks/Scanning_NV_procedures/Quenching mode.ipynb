{
 "cells": [
  {
   "cell_type": "markdown",
   "id": "415edb9d",
   "metadata": {},
   "source": [
    "# Quenching\n",
    "Notebook defining the procedure for scanning NV magnetometry in quenching mode"
   ]
  },
  {
   "cell_type": "code",
   "execution_count": null,
   "id": "51de1b3c",
   "metadata": {},
   "outputs": [],
   "source": []
  }
 ],
 "metadata": {
  "kernelspec": {
   "display_name": "Qudi",
   "language": "python",
   "name": "qudi"
  }
 },
 "nbformat": 4,
 "nbformat_minor": 5
}
